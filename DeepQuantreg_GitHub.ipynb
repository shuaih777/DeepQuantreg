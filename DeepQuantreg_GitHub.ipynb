{
  "nbformat": 4,
  "nbformat_minor": 0,
  "metadata": {
    "colab": {
      "name": "DeepQuantreg_GitHub.ipynb",
      "provenance": []
    },
    "kernelspec": {
      "name": "python3",
      "display_name": "Python 3"
    },
    "language_info": {
      "name": "python"
    },
    "accelerator": "GPU"
  },
  "cells": [
    {
      "cell_type": "markdown",
      "metadata": {
        "id": "NjVoNQxoSFkn"
      },
      "source": [
        "# Install DeepQuantreg from GitHub"
      ]
    },
    {
      "cell_type": "code",
      "metadata": {
        "colab": {
          "base_uri": "https://localhost:8080/"
        },
        "id": "eIIDYY3SR_-_",
        "outputId": "c0623665-f484-40f5-8f04-bb58d9c3f225"
      },
      "source": [
        "!pip3 install git+https://github.com/yicjia/DeepQuantreg.git -q"
      ],
      "execution_count": 1,
      "outputs": [
        {
          "output_type": "stream",
          "text": [
            "\u001b[?25l\r\u001b[K     |█                               | 10kB 29.3MB/s eta 0:00:01\r\u001b[K     |█▉                              | 20kB 34.6MB/s eta 0:00:01\r\u001b[K     |██▉                             | 30kB 27.0MB/s eta 0:00:01\r\u001b[K     |███▊                            | 40kB 30.5MB/s eta 0:00:01\r\u001b[K     |████▊                           | 51kB 27.1MB/s eta 0:00:01\r\u001b[K     |█████▋                          | 61kB 29.8MB/s eta 0:00:01\r\u001b[K     |██████▋                         | 71kB 19.2MB/s eta 0:00:01\r\u001b[K     |███████▌                        | 81kB 20.3MB/s eta 0:00:01\r\u001b[K     |████████▌                       | 92kB 19.0MB/s eta 0:00:01\r\u001b[K     |█████████▍                      | 102kB 18.9MB/s eta 0:00:01\r\u001b[K     |██████████▍                     | 112kB 18.9MB/s eta 0:00:01\r\u001b[K     |███████████▎                    | 122kB 18.9MB/s eta 0:00:01\r\u001b[K     |████████████▎                   | 133kB 18.9MB/s eta 0:00:01\r\u001b[K     |█████████████▏                  | 143kB 18.9MB/s eta 0:00:01\r\u001b[K     |██████████████▏                 | 153kB 18.9MB/s eta 0:00:01\r\u001b[K     |███████████████                 | 163kB 18.9MB/s eta 0:00:01\r\u001b[K     |████████████████                | 174kB 18.9MB/s eta 0:00:01\r\u001b[K     |█████████████████               | 184kB 18.9MB/s eta 0:00:01\r\u001b[K     |██████████████████              | 194kB 18.9MB/s eta 0:00:01\r\u001b[K     |██████████████████▉             | 204kB 18.9MB/s eta 0:00:01\r\u001b[K     |███████████████████▉            | 215kB 18.9MB/s eta 0:00:01\r\u001b[K     |████████████████████▊           | 225kB 18.9MB/s eta 0:00:01\r\u001b[K     |█████████████████████▊          | 235kB 18.9MB/s eta 0:00:01\r\u001b[K     |██████████████████████▋         | 245kB 18.9MB/s eta 0:00:01\r\u001b[K     |███████████████████████▌        | 256kB 18.9MB/s eta 0:00:01\r\u001b[K     |████████████████████████▌       | 266kB 18.9MB/s eta 0:00:01\r\u001b[K     |█████████████████████████▍      | 276kB 18.9MB/s eta 0:00:01\r\u001b[K     |██████████████████████████▍     | 286kB 18.9MB/s eta 0:00:01\r\u001b[K     |███████████████████████████▎    | 296kB 18.9MB/s eta 0:00:01\r\u001b[K     |████████████████████████████▎   | 307kB 18.9MB/s eta 0:00:01\r\u001b[K     |█████████████████████████████▏  | 317kB 18.9MB/s eta 0:00:01\r\u001b[K     |██████████████████████████████▏ | 327kB 18.9MB/s eta 0:00:01\r\u001b[K     |███████████████████████████████ | 337kB 18.9MB/s eta 0:00:01\r\u001b[K     |████████████████████████████████| 348kB 18.9MB/s \n",
            "\u001b[?25h\u001b[?25l\r\u001b[K     |█████▉                          | 10kB 37.2MB/s eta 0:00:01\r\u001b[K     |███████████▊                    | 20kB 44.5MB/s eta 0:00:01\r\u001b[K     |█████████████████▋              | 30kB 50.3MB/s eta 0:00:01\r\u001b[K     |███████████████████████▌        | 40kB 53.9MB/s eta 0:00:01\r\u001b[K     |█████████████████████████████▍  | 51kB 54.3MB/s eta 0:00:01\r\u001b[K     |████████████████████████████████| 61kB 9.8MB/s \n",
            "\u001b[?25h  Building wheel for DeepQuantreg (setup.py) ... \u001b[?25l\u001b[?25hdone\n",
            "  Building wheel for autograd-gamma (setup.py) ... \u001b[?25l\u001b[?25hdone\n"
          ],
          "name": "stdout"
        }
      ]
    },
    {
      "cell_type": "markdown",
      "metadata": {
        "id": "P-5TlsbASg-H"
      },
      "source": [
        "# Import packages"
      ]
    },
    {
      "cell_type": "code",
      "metadata": {
        "id": "YBbrMfbbSfB0"
      },
      "source": [
        "from DeepQuantreg import utils as utils\n",
        "from DeepQuantreg import deep_quantreg as dq\n",
        "from DeepQuantreg import hyperparameter_tuning as tune\n",
        "import pandas as pd"
      ],
      "execution_count": 2,
      "outputs": []
    },
    {
      "cell_type": "markdown",
      "metadata": {
        "id": "1c1RhVzgS9-1"
      },
      "source": [
        "# Load data"
      ]
    },
    {
      "cell_type": "code",
      "metadata": {
        "id": "GJehm3owS3t1"
      },
      "source": [
        "url = 'https://raw.githubusercontent.com/yicjia/DeepQuantreg/master/data/'\n",
        "train_dataset_fp = url+\"traindata.csv\"\n",
        "train_df = pd.read_csv(train_dataset_fp)\n",
        "train_df = utils.organize_data(train_df,time=\"OT\",event=\"ind\",trt=\"x2\")\n",
        "\n",
        "test_dataset_fp = url+\"testdata.csv\"\n",
        "test_df = pd.read_csv(test_dataset_fp)\n",
        "test_df = utils.organize_data(test_df,time=\"OT\",event=\"ind\",trt=\"x2\")"
      ],
      "execution_count": 3,
      "outputs": []
    },
    {
      "cell_type": "markdown",
      "metadata": {
        "id": "Ss1omtLWTAJM"
      },
      "source": [
        "# Hyperparameter tuning\n"
      ]
    },
    {
      "cell_type": "code",
      "metadata": {
        "colab": {
          "base_uri": "https://localhost:8080/"
        },
        "id": "iC-UlB13TCg4",
        "outputId": "9bcafd86-ee08-4c1d-a618-05f15a26af6e"
      },
      "source": [
        "# Specify your search space \n",
        "# Finer gird of search space will give better results but cost more time\n",
        "# You can change the runtime to GPU to speed up this procedure\n",
        "# Here is a small search space to save time (~6min)\n",
        "layers = [2]\n",
        "nodes=[300]\n",
        "dropout=[0.3,0.4]\n",
        "activation = [\"sigmoid\",\"relu\"]\n",
        "optimizer = [\"adam\"]\n",
        "bsize = [64]\n",
        "n_epochs = [500]\n",
        "\n",
        "tune.hyper_tuning(train_df, layers, nodes, dropout, activation, optimizer, bsize, n_epochs, n_cv=5, tau=0.5)"
      ],
      "execution_count": 7,
      "outputs": [
        {
          "output_type": "execute_result",
          "data": {
            "text/plain": [
              "{'activation': 'relu',\n",
              " 'batch_size': 64,\n",
              " 'dropout': 0.4,\n",
              " 'epochs': 500,\n",
              " 'layers': 2,\n",
              " 'nodes': 300,\n",
              " 'optimizer': 'adam'}"
            ]
          },
          "metadata": {
            "tags": []
          },
          "execution_count": 7
        }
      ]
    },
    {
      "cell_type": "markdown",
      "metadata": {
        "id": "PNcOVzKET-hr"
      },
      "source": [
        "# Run DeepQuantreg"
      ]
    },
    {
      "cell_type": "code",
      "metadata": {
        "colab": {
          "base_uri": "https://localhost:8080/"
        },
        "id": "Wykv2NN0UG9y",
        "outputId": "b20e217e-6521-4e7a-f093-10c931ff4f32"
      },
      "source": [
        "result = dq.deep_quantreg(train_df,test_df,layer=2,node=300,n_epoch=200,bsize=64,tau=0.5)"
      ],
      "execution_count": 4,
      "outputs": [
        {
          "output_type": "stream",
          "text": [
            "Concordance Index for training dataset: 0.7958445122690179\n",
            "Concordance Index for test dataset: 0.8038966559299506\n"
          ],
          "name": "stdout"
        }
      ]
    },
    {
      "cell_type": "code",
      "metadata": {
        "id": "fMBkyAppUKnd"
      },
      "source": [
        "# get the predicted quantiles and its prediction interval\n",
        "pred = result.predQ\n",
        "lowerPI = result.lower\n",
        "upperPI = result.upper"
      ],
      "execution_count": 9,
      "outputs": []
    },
    {
      "cell_type": "code",
      "metadata": {
        "colab": {
          "base_uri": "https://localhost:8080/"
        },
        "id": "dBmNqiwbUWQL",
        "outputId": "d3fb1097-f1d1-4793-cc53-d8df271fd193"
      },
      "source": [
        "# get the prediction performance\n",
        "print(\"C-index\",result.ci)\n",
        "print(\"MMSE\",result.mse)\n",
        "print(\"Quantile loss\",result.ql)"
      ],
      "execution_count": 10,
      "outputs": [
        {
          "output_type": "stream",
          "text": [
            "C-index 0.8038966559299506\n",
            "MMSE 1.774973805226771\n",
            "Quantile loss 0.49455462067822037\n"
          ],
          "name": "stdout"
        }
      ]
    }
  ]
}